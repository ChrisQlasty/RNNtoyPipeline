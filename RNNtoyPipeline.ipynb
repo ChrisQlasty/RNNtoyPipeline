{
 "cells": [
  {
   "cell_type": "markdown",
   "metadata": {},
   "source": [
    "# RNNs: Toy pipeline for variable length sequences\n",
    "\n",
    "* **Fact**:  In Machine Learning data has to be **first** divided into _training_, _validation_ and _testing_ sets, before cleaning and scaling, so you perform transformations on data unknown for the model (_validation_ and _testing_ sets) with the recipe elaborated based only on your _training_ data.  \n",
    "* **Positive aspect**: It can be easily done with typical _input vector-output vector_ representation of data-taget. You can take care of it utilizing scikit-learn's pipeline utilities <a href=\"http://scikit-learn.org/stable/modules/pipeline.html\">[1]</a><a href=\"https://github.com/ageron/handson-ml/blob/master/02_end_to_end_machine_learning_project.ipynb\">[2]</a>.  \n",
    "* **Negative aspect**: Input data in the form of variable length sequences (which you can find when utilizing RNNs) makes it little bit trickier to perform correct sampling into specific sets and further transformation processes.\n",
    "* **Task**: We will take a look how the thing can be done in pretty straightforward way.\n",
    "\n",
    "**Uses:** pandas, numpy, scikit-learn, matplotlib  \n",
    "\n",
    "Comming soon: images to clarify the concept\n",
    "\n",
    "---\n",
    "Ok! Let's add necessary imports and start our toy pipeline processes.  "
   ]
  },
  {
   "cell_type": "code",
   "execution_count": 1,
   "metadata": {
    "collapsed": true
   },
   "outputs": [],
   "source": [
    "import os\n",
    "from enum import Enum\n",
    "import pandas as pd\n",
    "import numpy as np\n",
    "import matplotlib.pyplot as plt\n",
    "%matplotlib inline"
   ]
  },
  {
   "cell_type": "markdown",
   "metadata": {},
   "source": [
    "Now, let's read our data from a specific folder into pandas DataFrames (DFs). "
   ]
  },
  {
   "cell_type": "code",
   "execution_count": 2,
   "metadata": {
    "collapsed": true
   },
   "outputs": [],
   "source": [
    "_base_file_name = 'FEATtoy'  #--- base for filenames (data as FEATures, toy example)   \n",
    "_path = 'data/'\n",
    "_extension = '.csv'\n",
    "_delimiter = ','\n",
    "\n",
    "seqTa = pd.read_csv(_path+'dT'+_base_file_name+_extension, delimiter=_delimiter, header=None)\n",
    "seqLe = pd.read_csv(_path+'dL'+_base_file_name+_extension, delimiter=_delimiter, header=None)\n",
    "seqTS = pd.read_csv(_path+'dS'+_base_file_name+_extension, delimiter=_delimiter) #do not skip headers as they are specified in the file"
   ]
  },
  {
   "cell_type": "markdown",
   "metadata": {},
   "source": [
    "What have we just read:\n",
    " * **seqTa** contains lables / targets of each sequence - integer starting from 1 to the number of classes\n",
    " * **seqLe** contains lengths of our sequences, the order corresponds with the order of items from seqTa - integer, greater than 0\n",
    " * **seqTS** contains stacked sequences - time stamps (if the variability of lengths of your sequences is great this is probably a good way to store sequences as it allows to save much space on the disk). Each sequence consists of specified number (time stamps) of feature vectors so we have 2D data here. All features are floating point numbers.\n",
    "\n",
    "So in this example we have not 2 files as often in ML problems (data and targets) but also a file indicating the length of sequences.\n",
    "\n",
    "Let's see what we really got:"
   ]
  },
  {
   "cell_type": "code",
   "execution_count": 3,
   "metadata": {},
   "outputs": [
    {
     "name": "stdout",
     "output_type": "stream",
     "text": [
      "Lengths shape: (1500, 1)\tTargets shape: (1500, 1)\tSequences: (115012, 6)\n"
     ]
    }
   ],
   "source": [
    "print(\"Lengths shape: {0}\\tTargets shape: {1}\\tSequences: {2}\".format(seqLe.shape, seqTa.shape, seqTS.shape))"
   ]
  },
  {
   "cell_type": "markdown",
   "metadata": {},
   "source": [
    "As you can see, the dimensions of seqTa and seqLe do not correspond to the shape of seqTS in either way. Let's leave that for now and just display elementary info about them utilizing one of many nice methods for DFs:"
   ]
  },
  {
   "cell_type": "code",
   "execution_count": 4,
   "metadata": {},
   "outputs": [
    {
     "name": "stdout",
     "output_type": "stream",
     "text": [
      "----------------------------------\n",
      "<class 'pandas.core.frame.DataFrame'>\n",
      "RangeIndex: 1500 entries, 0 to 1499\n",
      "Data columns (total 1 columns):\n",
      "0    1500 non-null int64\n",
      "dtypes: int64(1)\n",
      "memory usage: 11.8 KB\n",
      "----------------------------------\n",
      "<class 'pandas.core.frame.DataFrame'>\n",
      "RangeIndex: 1500 entries, 0 to 1499\n",
      "Data columns (total 1 columns):\n",
      "0    1500 non-null int64\n",
      "dtypes: int64(1)\n",
      "memory usage: 11.8 KB\n",
      "----------------------------------\n"
     ]
    }
   ],
   "source": [
    "print(\"----------------------------------\")\n",
    "seqLe.info()\n",
    "print(\"----------------------------------\")\n",
    "seqTa.info()\n",
    "print(\"----------------------------------\")"
   ]
  },
  {
   "cell_type": "markdown",
   "metadata": {},
   "source": [
    "It is good, we have integers in both seqLe and seqTa dataframes, that sounds reasonable.\n",
    "Take a look at the histograms of the lengths and targets:"
   ]
  },
  {
   "cell_type": "code",
   "execution_count": 5,
   "metadata": {},
   "outputs": [
    {
     "data": {
      "image/png": "[encoded data removed]",
      "text/plain": [
       "<matplotlib.figure.Figure at 0x17da733d320>"
      ]
     },
     "metadata": {},
     "output_type": "display_data"
    }
   ],
   "source": [
    "plt.hist(seqLe, edgecolor='black')\n",
    "myPlotTitle1 = plt.title(\"Histogram of sequences Lengths\")"
   ]
  },
  {
   "cell_type": "markdown",
   "metadata": {},
   "source": [
    "Ok, we see that the sequences vary in length quite much. It won't concern us much as we only care about the data processing in this notebook."
   ]
  },
  {
   "cell_type": "code",
   "execution_count": 6,
   "metadata": {},
   "outputs": [
    {
     "data": {
      "image/png": "[encoded data removed]",
      "text/plain": [
       "<matplotlib.figure.Figure at 0x17da89dfa20>"
      ]
     },
     "metadata": {},
     "output_type": "display_data"
    }
   ],
   "source": [
    "bins_count = len(seqTa[0].unique()) #--- number of unique targets / labels / classes\n",
    "plt.hist(seqTa, edgecolor='black', bins=bins_count)\n",
    "myPlotTitle2 = plt.title(\"Histogram of sequences Targets\")"
   ]
  },
  {
   "cell_type": "markdown",
   "metadata": {},
   "source": [
    "Excellent, someone has done great job - the distribution of sequences is just equal. As we can see , our toy dataset contains 10 classes, each represented by 150 instances."
   ]
  },
  {
   "cell_type": "markdown",
   "metadata": {},
   "source": [
    "## Select features"
   ]
  },
  {
   "cell_type": "markdown",
   "metadata": {},
   "source": [
    "Our data file with toy example (seqTS) has the headers with features names already specified, so we don't have to assign them manually. Therefore we can display some information about our data (utilizing pandas DF methods):"
   ]
  },
  {
   "cell_type": "code",
   "execution_count": 7,
   "metadata": {},
   "outputs": [
    {
     "name": "stdout",
     "output_type": "stream",
     "text": [
      "<class 'pandas.core.frame.DataFrame'>\n",
      "RangeIndex: 115012 entries, 0 to 115011\n",
      "Data columns (total 6 columns):\n",
      "sin_alpha    115010 non-null float64\n",
      "FWHM         115012 non-null float64\n",
      "max          115012 non-null float64\n",
      "COG          115012 non-null float64\n",
      "mean         115012 non-null float64\n",
      "rel_std      115012 non-null float64\n",
      "dtypes: float64(6)\n",
      "memory usage: 5.3 MB\n"
     ]
    }
   ],
   "source": [
    "seqTS.info()"
   ]
  },
  {
   "cell_type": "code",
   "execution_count": 8,
   "metadata": {},
   "outputs": [
    {
     "data": {
      "text/html": [
       "<div>\n",
       "<style>\n",
       "    .dataframe thead tr:only-child th {\n",
       "        text-align: right;\n",
       "    }\n",
       "\n",
       "    .dataframe thead th {\n",
       "        text-align: left;\n",
       "    }\n",
       "\n",
       "    .dataframe tbody tr th {\n",
       "        vertical-align: top;\n",
       "    }\n",
       "</style>\n",
       "<table border=\"1\" class=\"dataframe\">\n",
       "  <thead>\n",
       "    <tr style=\"text-align: right;\">\n",
       "      <th></th>\n",
       "      <th>sin_alpha</th>\n",
       "      <th>FWHM</th>\n",
       "      <th>max</th>\n",
       "      <th>COG</th>\n",
       "      <th>mean</th>\n",
       "      <th>rel_std</th>\n",
       "    </tr>\n",
       "  </thead>\n",
       "  <tbody>\n",
       "    <tr>\n",
       "      <th>count</th>\n",
       "      <td>115010.000000</td>\n",
       "      <td>115012.000000</td>\n",
       "      <td>115012.000000</td>\n",
       "      <td>115012.000000</td>\n",
       "      <td>115012.000000</td>\n",
       "      <td>115012.000000</td>\n",
       "    </tr>\n",
       "    <tr>\n",
       "      <th>mean</th>\n",
       "      <td>0.189855</td>\n",
       "      <td>1.722653</td>\n",
       "      <td>0.957423</td>\n",
       "      <td>0.052655</td>\n",
       "      <td>0.457149</td>\n",
       "      <td>0.357484</td>\n",
       "    </tr>\n",
       "    <tr>\n",
       "      <th>std</th>\n",
       "      <td>0.250218</td>\n",
       "      <td>0.789514</td>\n",
       "      <td>0.623580</td>\n",
       "      <td>1.309181</td>\n",
       "      <td>0.418220</td>\n",
       "      <td>0.520235</td>\n",
       "    </tr>\n",
       "    <tr>\n",
       "      <th>min</th>\n",
       "      <td>0.000000</td>\n",
       "      <td>0.010000</td>\n",
       "      <td>0.112090</td>\n",
       "      <td>-3.500000</td>\n",
       "      <td>0.029815</td>\n",
       "      <td>-1.937600</td>\n",
       "    </tr>\n",
       "    <tr>\n",
       "      <th>25%</th>\n",
       "      <td>0.026835</td>\n",
       "      <td>1.333275</td>\n",
       "      <td>0.517185</td>\n",
       "      <td>-0.565482</td>\n",
       "      <td>0.209060</td>\n",
       "      <td>0.103880</td>\n",
       "    </tr>\n",
       "    <tr>\n",
       "      <th>50%</th>\n",
       "      <td>0.079323</td>\n",
       "      <td>1.599900</td>\n",
       "      <td>0.832215</td>\n",
       "      <td>0.063689</td>\n",
       "      <td>0.361605</td>\n",
       "      <td>0.385605</td>\n",
       "    </tr>\n",
       "    <tr>\n",
       "      <th>75%</th>\n",
       "      <td>0.240570</td>\n",
       "      <td>2.000600</td>\n",
       "      <td>1.168500</td>\n",
       "      <td>0.745090</td>\n",
       "      <td>0.539617</td>\n",
       "      <td>0.617283</td>\n",
       "    </tr>\n",
       "    <tr>\n",
       "      <th>max</th>\n",
       "      <td>1.000000</td>\n",
       "      <td>6.510000</td>\n",
       "      <td>3.600000</td>\n",
       "      <td>3.500000</td>\n",
       "      <td>4.084500</td>\n",
       "      <td>2.267800</td>\n",
       "    </tr>\n",
       "  </tbody>\n",
       "</table>\n",
       "</div>"
      ],
      "text/plain": [
       "           sin_alpha           FWHM            max            COG  \\\n",
       "count  115010.000000  115012.000000  115012.000000  115012.000000   \n",
       "mean        0.189855       1.722653       0.957423       0.052655   \n",
       "std         0.250218       0.789514       0.623580       1.309181   \n",
       "min         0.000000       0.010000       0.112090      -3.500000   \n",
       "25%         0.026835       1.333275       0.517185      -0.565482   \n",
       "50%         0.079323       1.599900       0.832215       0.063689   \n",
       "75%         0.240570       2.000600       1.168500       0.745090   \n",
       "max         1.000000       6.510000       3.600000       3.500000   \n",
       "\n",
       "                mean        rel_std  \n",
       "count  115012.000000  115012.000000  \n",
       "mean        0.457149       0.357484  \n",
       "std         0.418220       0.520235  \n",
       "min         0.029815      -1.937600  \n",
       "25%         0.209060       0.103880  \n",
       "50%         0.361605       0.385605  \n",
       "75%         0.539617       0.617283  \n",
       "max         4.084500       2.267800  "
      ]
     },
     "execution_count": 8,
     "metadata": {},
     "output_type": "execute_result"
    }
   ],
   "source": [
    "seqTS.describe()"
   ]
  },
  {
   "cell_type": "markdown",
   "metadata": {},
   "source": [
    "From the info() method we see that there are some missing values (nulls/nans) in the *sin_alpha* feature. Also we see that there are six features in the file and that individual features have different scales (which is bad for your ML model), so the job of cleaning and scaling is necessary.  \n",
    "Let's also take a look at the histograms of our features:"
   ]
  },
  {
   "cell_type": "code",
   "execution_count": 9,
   "metadata": {},
   "outputs": [
    {
     "data": {
      "image/png": "[encoded data removed]",
      "text/plain": [
       "<matplotlib.figure.Figure at 0x17da8aa5048>"
      ]
     },
     "metadata": {},
     "output_type": "display_data"
    }
   ],
   "source": [
    "myHistograms = seqTS.hist()"
   ]
  },
  {
   "cell_type": "markdown",
   "metadata": {},
   "source": [
    "Neural networks like features, which have 0 skewness and which are Normally distributed. To make it happen in our dataset we would have to perform nonlinear operations with different parameters on each of the features. We won't do that as that may brake the relations between values of specific features and confuse the network, so be careful with that.\n",
    "\n",
    "Now imagine, you would want to test and compare some specific combinations of loaded features. We can create an enum for switching the features subsets conveniently:"
   ]
  },
  {
   "cell_type": "code",
   "execution_count": 10,
   "metadata": {
    "collapsed": true
   },
   "outputs": [],
   "source": [
    "class Features(Enum):\n",
    "    All = 1\n",
    "    sina_COG_max = 2\n",
    "    FWHM_COG_std = 3\n",
    "    sina_mean_std = 4    \n",
    "    \n",
    "#--- Let's try the sina_mean_std combination\n",
    "feat_type = Features.sina_mean_std"
   ]
  },
  {
   "cell_type": "markdown",
   "metadata": {},
   "source": [
    "So now it is time to implement the selection of a combination of features. We can pass the result to a new DF: seqTSsel (seqTS selected)."
   ]
  },
  {
   "cell_type": "code",
   "execution_count": 11,
   "metadata": {},
   "outputs": [
    {
     "name": "stdout",
     "output_type": "stream",
     "text": [
      "Number of inputs:  3\n"
     ]
    }
   ],
   "source": [
    "if(feat_type == Features.All): #assign all\n",
    "    seqTSsel = seqTS\n",
    "if (feat_type == Features.sina_COG_max):\n",
    "    seqTSsel = seqTS[['sin_alpha','COG','max']]\n",
    "elif (feat_type == Features.FWHM_COG_std):\n",
    "    seqTSsel = seqTS[['FWHM', 'COG', 'rel_std']]\n",
    "elif (feat_type == Features.sina_mean_std):\n",
    "    seqTSsel = seqTS[['sin_alpha', 'mean', 'rel_std']]    \n",
    "    \n",
    "n_inputs = seqTSsel.shape[1]\n",
    "print(\"Number of inputs: \",n_inputs)"
   ]
  },
  {
   "cell_type": "markdown",
   "metadata": {},
   "source": [
    "According to the setting from the previous cell (feat_type = Features.sina_mean_std) the corresponding option was activated and specific features were selected from the initial seqTS DataFrame. The number of features (inputs to the model) is as expected, we have asked for just three columns.  \n",
    "I also like to have a variable for the index of column of a new DF (seqTSsel) which would help to avoid unnecessary operations later."
   ]
  },
  {
   "cell_type": "code",
   "execution_count": 12,
   "metadata": {},
   "outputs": [
    {
     "name": "stdout",
     "output_type": "stream",
     "text": [
      "sin index: 0, mean index: 1, std index: 2\n"
     ]
    }
   ],
   "source": [
    "index_sina = seqTSsel.columns.get_loc('sin_alpha') \n",
    "index_mean = seqTSsel.columns.get_loc('mean') \n",
    "index_std  = seqTSsel.columns.get_loc('rel_std') \n",
    "print(\"sin index: {}, mean index: {}, std index: {}\".format(index_sina, index_mean, index_std))"
   ]
  },
  {
   "cell_type": "markdown",
   "metadata": {},
   "source": [
    "## Divide the data - stratified sampling"
   ]
  },
  {
   "cell_type": "markdown",
   "metadata": {},
   "source": [
    "As pointed at the beginning, at the earliest stage of transformation process, we should divide our set into training, validation and testing sets. In this notebook we will perform the stratified sampling, which, combined with the varied length sequences, may be the source of litte troubles.\n",
    "\n",
    "The difference between stratified sampling and random sampling is well presented in A. Geron's excellent book [3] as well as in his <a href=\"https://github.com/ageron/handson-ml/blob/master/02_end_to_end_machine_learning_project.ipynb\">notebook</a>. It allows us to preserve the proportions of the number of elements from individual classes from the whole observation set after sampling into train, valid and test subsets. Or at least with significantly lower error than with just the random sampling.      \n",
    "\n",
    "Before the acutal sampling we need to:\n",
    "* specify the ratio between **_training_** , **_valid_** and **_testing_** sets. We assume that the **_valid-ratio_**==**_testing-ratio_** and **_valid-ratio_** = (1-**_training-ratio_**)/2, so let:"
   ]
  },
  {
   "cell_type": "code",
   "execution_count": 13,
   "metadata": {
    "collapsed": true
   },
   "outputs": [],
   "source": [
    "training_set_ratio = 0.6"
   ]
  },
  {
   "cell_type": "markdown",
   "metadata": {},
   "source": [
    "* and transform our stacked sequences (2D data array) into a structure liable to shuffling based upon indicies.\n",
    "\n",
    "So now it is time to write our first helper function. We need to shuffle three files in this example: data, lengths and targets. We are not able just to merge them as a set of columns as they have different dimensions.  \n",
    "In order to get all three files in a shuffle friendly form we can take advantage of the fancy property of Python and just use a list. We will extract individual sequences from the seqTSsel DF and append them to a list (as it does not care if we store arrays of different dimensions inside)."
   ]
  },
  {
   "cell_type": "code",
   "execution_count": 14,
   "metadata": {
    "collapsed": true
   },
   "outputs": [],
   "source": [
    "def DataToList(sDAT, sLEN): #--- gets DF, DF; returns list\n",
    "\n",
    "    if(isinstance(sDAT,pd.DataFrame)):\n",
    "        sDAT=sDAT.as_matrix() #- convert from DF to numpy array\n",
    "    if(isinstance(sLEN,pd.DataFrame)):\n",
    "        sLEN=sLEN.as_matrix() #- convert from DF to numpy array\n",
    "    \n",
    "    #---here we define start and end indexes of subsequent sequences based upon the vector with lengths\n",
    "    end_indices   = np.cumsum(sLEN)\n",
    "    start_indices = np.insert(end_indices[:-1], [0], [0]) #--- first sequence starts from the 0-th line\n",
    "    myList = []\n",
    "\n",
    "    for s_ind, e_ind in zip(start_indices, end_indices): #--- each extracted sequence (as array) is appended to our list\n",
    "        myList.append(sDAT[s_ind : e_ind, :])        \n",
    "\n",
    "    return myList"
   ]
  },
  {
   "cell_type": "markdown",
   "metadata": {},
   "source": [
    "So let's run the *DataToList* method and see what we got. We compare the output from the helper method (individual arrays with sequences) with the expected length from the seqLe, for the first 5 examples:"
   ]
  },
  {
   "cell_type": "code",
   "execution_count": 15,
   "metadata": {},
   "outputs": [
    {
     "name": "stdout",
     "output_type": "stream",
     "text": [
      "Sequence 0: Shape of list element (extracted sequence): (62, 3)\t           Length of sequence (from the seqLe): 62\n",
      "Sequence 1: Shape of list element (extracted sequence): (62, 3)\t           Length of sequence (from the seqLe): 62\n",
      "Sequence 2: Shape of list element (extracted sequence): (198, 3)\t           Length of sequence (from the seqLe): 198\n",
      "Sequence 3: Shape of list element (extracted sequence): (75, 3)\t           Length of sequence (from the seqLe): 75\n",
      "Sequence 4: Shape of list element (extracted sequence): (38, 3)\t           Length of sequence (from the seqLe): 38\n"
     ]
    }
   ],
   "source": [
    "seqS_list = DataToList(seqTSsel, seqLe) # gets DF, DF; returns list\n",
    "how_many = 5\n",
    "\n",
    "for index, tmpSeq in enumerate(seqS_list):\n",
    "    if(index==how_many):\n",
    "        break\n",
    "    print(\"Sequence {0}: Shape of list element (extracted sequence): {1}\\t\\\n",
    "           Length of sequence (from the seqLe): {2}\".format(index, tmpSeq.shape, seqLe.loc[index][0]))        "
   ]
  },
  {
   "cell_type": "markdown",
   "metadata": {},
   "source": [
    "Great! As we see, the number of rows of each element in the list corresponds perfectly with the expected length.  \n",
    "To be more sure about the data let's display the *rel_std* feature from these first five elements from the list:"
   ]
  },
  {
   "cell_type": "code",
   "execution_count": 16,
   "metadata": {},
   "outputs": [
    {
     "data": {
      "image/png": "[encoded data removed]",
      "text/plain": [
       "<matplotlib.figure.Figure at 0x17da8dbb908>"
      ]
     },
     "metadata": {},
     "output_type": "display_data"
    }
   ],
   "source": [
    "param2display = index_std\n",
    "for index in range(how_many):\n",
    "    plt.plot( seqS_list[index][:,param2display], label='Sequence ' + str(index), linewidth=3.0)\n",
    "    \n",
    "myPlotTitle3 = plt.title(\"Feature: {} from {} sequences\".format(seqTSsel.columns[param2display], how_many))\n",
    "plt.legend()\n",
    "plotXlab = plt.xlabel('Time stamp [n]')\n",
    "plotYlab = plt.ylabel(seqTSsel.columns[param2display])"
   ]
  },
  {
   "cell_type": "markdown",
   "metadata": {},
   "source": [
    "You can see that the sequences have varied length (compare them with the results from the previous cell), plots start and finish gently (lines rather don't have unexpected indentations and seem to be continuous) so it really looks that the sequences have been extracted well."
   ]
  },
  {
   "cell_type": "markdown",
   "metadata": {},
   "source": [
    "We can also now extract the length of our longest sequence and save it for later before the actual split of data into training, validation and testing sest."
   ]
  },
  {
   "cell_type": "code",
   "execution_count": 17,
   "metadata": {},
   "outputs": [],
   "source": [
    "longest_seq = np.max(seqLe.values)"
   ]
  },
  {
   "cell_type": "markdown",
   "metadata": {},
   "source": [
    "Also it will be more comfortable to use a specified type instead of juggling with many variables so we will use objects of simple helper class.  \n",
    "It's fields store sequences, targets, legths and the headers of selected features and will be accessed using '.'."
   ]
  },
  {
   "cell_type": "code",
   "execution_count": 18,
   "metadata": {
    "collapsed": true
   },
   "outputs": [],
   "source": [
    "class myDataset:    \n",
    "    def __init__(self, seqTS, seqTa, seqLe, headers):\n",
    "        self.seqTS = seqTS\n",
    "        self.seqTa = seqTa\n",
    "        self.seqLe = seqLe\n",
    "        self.headers = headers"
   ]
  },
  {
   "cell_type": "markdown",
   "metadata": {},
   "source": [
    "Finally we are ready to write first of our main methods, which will handle the stratified sampling itself. As you will see the scikit-learn implements the stratified sampling method (as well as many others) so our duty is only in preparing the data and using the function properly:"
   ]
  },
  {
   "cell_type": "code",
   "execution_count": 19,
   "metadata": {
    "collapsed": true
   },
   "outputs": [],
   "source": [
    "from sklearn.model_selection import StratifiedShuffleSplit\n",
    "\n",
    "def DataStratfiedSampling(train_ratio, DataList, seqL, seqT, col_names): #--- gets float, list, DFs; returns myDataset\n",
    "\n",
    "    tstvld_set_ratio = 1 - train_ratio\n",
    "    seqT = seqT.as_matrix() #--- DF to np array\n",
    "    seqL = seqL.as_matrix() #--- DF to np array\n",
    "    \n",
    "    #--- split the initial sets into training and just one remaining set (which will be split later);\n",
    "    #---- notice the test_size param which we define as 1 - train_ratio\n",
    "    split = StratifiedShuffleSplit(n_splits=1, test_size=tstvld_set_ratio, random_state=16)    \n",
    "    #--- here we receive two vectors of indices for two sets and create these subsets (np arrays and list)\n",
    "    for train_index, tstvld_index in split.split(seqL, seqT):\n",
    "        L_train     = seqL[train_index]\n",
    "        T_train     = seqT[train_index]\n",
    "        I_trainLst  = [DataList[i] for i in train_index]\n",
    "\n",
    "        L_tstvld    = seqL[tstvld_index]\n",
    "        T_tstvld    = seqT[tstvld_index]\n",
    "        I_tstvldLst = [DataList[i] for i in tstvld_index]\n",
    "    \n",
    "    #--- split the obtained tstvld sets into testing and validation sets;\n",
    "    #---- notice the test_size param is equal to 0.5 as we want to have test and valid sets of equal size\n",
    "    split = StratifiedShuffleSplit(n_splits=1, test_size=0.5, random_state=45)    \n",
    "    #--- here we split the obtained tstvld nps and list into validation and testing set nps and lists\n",
    "    for test_index, valid_index in split.split(L_tstvld, T_tstvld):\n",
    "        L_test     = L_tstvld[test_index]\n",
    "        T_test     = T_tstvld[test_index]\n",
    "        I_testLst  = [I_tstvldLst[i] for i in test_index]\n",
    "\n",
    "        L_valid    = L_tstvld[valid_index]\n",
    "        T_valid    = T_tstvld[valid_index]\n",
    "        I_validLst = [I_tstvldLst[i] for i in valid_index]\n",
    "\n",
    "    trainDS = myDataset(I_trainLst, T_train, L_train, seqTSsel.columns)\n",
    "    validDS = myDataset(I_validLst, T_valid, L_valid, seqTSsel.columns)\n",
    "    testDS  = myDataset(I_testLst,  T_test,  L_test,  seqTSsel.columns)\n",
    "     \n",
    "    return trainDS, validDS, testDS    "
   ]
  },
  {
   "cell_type": "markdown",
   "metadata": {},
   "source": [
    "So now let's evaluate the method..."
   ]
  },
  {
   "cell_type": "code",
   "execution_count": 20,
   "metadata": {},
   "outputs": [],
   "source": [
    "trainDS, validDS, testDS =\\\n",
    "    DataStratfiedSampling(training_set_ratio, seqS_list, seqLe, seqTa, seqTSsel.columns) # gets float, list, DFs, returns myDataset"
   ]
  },
  {
   "cell_type": "markdown",
   "metadata": {},
   "source": [
    "... and see whot we got:"
   ]
  },
  {
   "cell_type": "code",
   "execution_count": 21,
   "metadata": {},
   "outputs": [
    {
     "name": "stdout",
     "output_type": "stream",
     "text": [
      "Train:\t List length: 900\tTargets shape: (900, 1)\tLengths shape: (900, 1)\n",
      "Valid:\t List length: 300\tTargets shape: (300, 1)\tLengths shape: (300, 1)\n",
      "Test: \t List length: 300\tTargets shape: (300, 1)\tLengths shape: (300, 1)\n",
      "Train set ratio: 0.6000\n"
     ]
    }
   ],
   "source": [
    "print('Train:\\t List length: {0}\\tTargets shape: {1}\\tLengths shape: {2}'.\\\n",
    "      format(len(trainDS.seqTS), trainDS.seqTa.shape, trainDS.seqLe.shape))\n",
    "print('Valid:\\t List length: {0}\\tTargets shape: {1}\\tLengths shape: {2}'.\\\n",
    "      format(len(validDS.seqTS), validDS.seqTa.shape, validDS.seqLe.shape))\n",
    "print('Test: \\t List length: {0}\\tTargets shape: {1}\\tLengths shape: {2}'.\\\n",
    "      format(len(testDS.seqTS), testDS.seqTa.shape, testDS.seqLe.shape))\n",
    "\n",
    "print('Train set ratio: {0:.4f}'.format(len(trainDS.seqTS)/(len(trainDS.seqTS)+len(validDS.seqTS)+len(testDS.seqTS))))"
   ]
  },
  {
   "cell_type": "markdown",
   "metadata": {},
   "source": [
    "We have obtained 3 objects with training, validation and test data. The shapes and proportions look as expected. We can also check the labels distribution within the sets:"
   ]
  },
  {
   "cell_type": "code",
   "execution_count": 22,
   "metadata": {},
   "outputs": [
    {
     "name": "stdout",
     "output_type": "stream",
     "text": [
      "Expected percentage: 10.00000% \n"
     ]
    },
    {
     "data": {
      "text/html": [
       "<div>\n",
       "<style>\n",
       "    .dataframe thead tr:only-child th {\n",
       "        text-align: right;\n",
       "    }\n",
       "\n",
       "    .dataframe thead th {\n",
       "        text-align: left;\n",
       "    }\n",
       "\n",
       "    .dataframe tbody tr th {\n",
       "        vertical-align: top;\n",
       "    }\n",
       "</style>\n",
       "<table border=\"1\" class=\"dataframe\">\n",
       "  <thead>\n",
       "    <tr style=\"text-align: right;\">\n",
       "      <th></th>\n",
       "      <th>Training [%]</th>\n",
       "      <th>Validation [%]</th>\n",
       "      <th>Testing [%]</th>\n",
       "      <th>Tr. error [%]</th>\n",
       "      <th>Val. error [%]</th>\n",
       "      <th>Tst. error [%]</th>\n",
       "    </tr>\n",
       "  </thead>\n",
       "  <tbody>\n",
       "    <tr>\n",
       "      <th>1</th>\n",
       "      <td>10.0</td>\n",
       "      <td>10.0</td>\n",
       "      <td>10.0</td>\n",
       "      <td>0.0</td>\n",
       "      <td>0.0</td>\n",
       "      <td>0.0</td>\n",
       "    </tr>\n",
       "    <tr>\n",
       "      <th>2</th>\n",
       "      <td>10.0</td>\n",
       "      <td>10.0</td>\n",
       "      <td>10.0</td>\n",
       "      <td>0.0</td>\n",
       "      <td>0.0</td>\n",
       "      <td>0.0</td>\n",
       "    </tr>\n",
       "    <tr>\n",
       "      <th>3</th>\n",
       "      <td>10.0</td>\n",
       "      <td>10.0</td>\n",
       "      <td>10.0</td>\n",
       "      <td>0.0</td>\n",
       "      <td>0.0</td>\n",
       "      <td>0.0</td>\n",
       "    </tr>\n",
       "    <tr>\n",
       "      <th>4</th>\n",
       "      <td>10.0</td>\n",
       "      <td>10.0</td>\n",
       "      <td>10.0</td>\n",
       "      <td>0.0</td>\n",
       "      <td>0.0</td>\n",
       "      <td>0.0</td>\n",
       "    </tr>\n",
       "    <tr>\n",
       "      <th>5</th>\n",
       "      <td>10.0</td>\n",
       "      <td>10.0</td>\n",
       "      <td>10.0</td>\n",
       "      <td>0.0</td>\n",
       "      <td>0.0</td>\n",
       "      <td>0.0</td>\n",
       "    </tr>\n",
       "    <tr>\n",
       "      <th>6</th>\n",
       "      <td>10.0</td>\n",
       "      <td>10.0</td>\n",
       "      <td>10.0</td>\n",
       "      <td>0.0</td>\n",
       "      <td>0.0</td>\n",
       "      <td>0.0</td>\n",
       "    </tr>\n",
       "    <tr>\n",
       "      <th>7</th>\n",
       "      <td>10.0</td>\n",
       "      <td>10.0</td>\n",
       "      <td>10.0</td>\n",
       "      <td>0.0</td>\n",
       "      <td>0.0</td>\n",
       "      <td>0.0</td>\n",
       "    </tr>\n",
       "    <tr>\n",
       "      <th>8</th>\n",
       "      <td>10.0</td>\n",
       "      <td>10.0</td>\n",
       "      <td>10.0</td>\n",
       "      <td>0.0</td>\n",
       "      <td>0.0</td>\n",
       "      <td>0.0</td>\n",
       "    </tr>\n",
       "    <tr>\n",
       "      <th>9</th>\n",
       "      <td>10.0</td>\n",
       "      <td>10.0</td>\n",
       "      <td>10.0</td>\n",
       "      <td>0.0</td>\n",
       "      <td>0.0</td>\n",
       "      <td>0.0</td>\n",
       "    </tr>\n",
       "    <tr>\n",
       "      <th>10</th>\n",
       "      <td>10.0</td>\n",
       "      <td>10.0</td>\n",
       "      <td>10.0</td>\n",
       "      <td>0.0</td>\n",
       "      <td>0.0</td>\n",
       "      <td>0.0</td>\n",
       "    </tr>\n",
       "  </tbody>\n",
       "</table>\n",
       "</div>"
      ],
      "text/plain": [
       "    Training [%]  Validation [%]  Testing [%]  Tr. error [%]  Val. error [%]  \\\n",
       "1           10.0            10.0         10.0            0.0             0.0   \n",
       "2           10.0            10.0         10.0            0.0             0.0   \n",
       "3           10.0            10.0         10.0            0.0             0.0   \n",
       "4           10.0            10.0         10.0            0.0             0.0   \n",
       "5           10.0            10.0         10.0            0.0             0.0   \n",
       "6           10.0            10.0         10.0            0.0             0.0   \n",
       "7           10.0            10.0         10.0            0.0             0.0   \n",
       "8           10.0            10.0         10.0            0.0             0.0   \n",
       "9           10.0            10.0         10.0            0.0             0.0   \n",
       "10          10.0            10.0         10.0            0.0             0.0   \n",
       "\n",
       "    Tst. error [%]  \n",
       "1              0.0  \n",
       "2              0.0  \n",
       "3              0.0  \n",
       "4              0.0  \n",
       "5              0.0  \n",
       "6              0.0  \n",
       "7              0.0  \n",
       "8              0.0  \n",
       "9              0.0  \n",
       "10             0.0  "
      ]
     },
     "execution_count": 22,
     "metadata": {},
     "output_type": "execute_result"
    }
   ],
   "source": [
    "Tra_distribution = 100*(pd.DataFrame(trainDS.seqTa)[0].value_counts()/len(trainDS.seqTa)).sort_index()\n",
    "Val_distribution = 100*(pd.DataFrame(validDS.seqTa)[0].value_counts()/len(validDS.seqTa)).sort_index()\n",
    "Tes_distribution = 100*(pd.DataFrame(testDS.seqTa )[0].value_counts()/len(testDS.seqTa)).sort_index()\n",
    "\n",
    "expected_percentage = 100*1/bins_count\n",
    "print('Expected percentage: {0:.5f}% '.format( expected_percentage) )\n",
    "\n",
    "Tra_error = Tra_distribution - expected_percentage\n",
    "Val_error = Val_distribution - expected_percentage\n",
    "Tes_error = Tes_distribution - expected_percentage\n",
    "\n",
    "summary = pd.concat([pd.DataFrame(Tra_distribution), pd.DataFrame(Val_distribution), pd.DataFrame(Tes_distribution),\\\n",
    "                    Tra_error, Val_error, Tes_error], axis=1)\n",
    "summary.columns = ['Training [%]', 'Validation [%]','Testing [%]','Tr. error [%]', 'Val. error [%]','Tst. error [%]']\n",
    "summary"
   ]
  },
  {
   "cell_type": "markdown",
   "metadata": {},
   "source": [
    "Pretty smooth. We have succesfully obtained training, validation and testing sets balanced as our initial dataset.  \n",
    "So let's clean the data as we know it contains some unwanted values."
   ]
  },
  {
   "cell_type": "markdown",
   "metadata": {},
   "source": [
    "## Clean the data (remove nulls)"
   ]
  },
  {
   "cell_type": "markdown",
   "metadata": {},
   "source": [
    "As we have successfully split the data now it is time to clean it. Just before that it could be useful to provide a list of manual replacements for some of the null/NANs in our data. For example, we may have detected that in the preprocessing stage our function for calculation of sin(x) returned null instead of 0.  \n",
    "So let's create a list of tuples **feature_name-value** and we will take care of it very soon."
   ]
  },
  {
   "cell_type": "code",
   "execution_count": 23,
   "metadata": {
    "collapsed": true
   },
   "outputs": [],
   "source": [
    "ManualCleanList = [] \n",
    "ManualCleanList.append( ('sina', 0.0) )    # (feature name, value to be placed instead of null)"
   ]
  },
  {
   "cell_type": "markdown",
   "metadata": {},
   "source": [
    "And just take a look that in this case nulls are present in our training set (69159 non_null sin_alpha rows instead of 69161):"
   ]
  },
  {
   "cell_type": "code",
   "execution_count": 24,
   "metadata": {},
   "outputs": [
    {
     "name": "stdout",
     "output_type": "stream",
     "text": [
      "<class 'pandas.core.frame.DataFrame'>\n",
      "RangeIndex: 69161 entries, 0 to 69160\n",
      "Data columns (total 3 columns):\n",
      "sin_alpha    69159 non-null float64\n",
      "mean         69161 non-null float64\n",
      "rel_std      69161 non-null float64\n",
      "dtypes: float64(3)\n",
      "memory usage: 1.6 MB\n"
     ]
    }
   ],
   "source": [
    "pd.DataFrame(np.vstack(trainDS.seqTS), columns=trainDS.headers).info()"
   ]
  },
  {
   "cell_type": "markdown",
   "metadata": {},
   "source": [
    "OK, so finally, here comes another of our main functions."
   ]
  },
  {
   "cell_type": "code",
   "execution_count": 25,
   "metadata": {
    "collapsed": true
   },
   "outputs": [],
   "source": [
    "from sklearn.preprocessing import Imputer\n",
    "\n",
    "def CleanData(trainDS, validDS, testDS, ManualCleanList):  #--- gets myDatasets, List; returns myDatasets\n",
    "    \n",
    "    #- We extract our data arrays from myDataset objects and stack them as we have to investigate each feature globally\n",
    "    # Conversion to a DF object is also performed as it will be helpful for taking care of individual features\n",
    "    Itrain = pd.DataFrame(np.vstack(trainDS.seqTS), columns=trainDS.headers)\n",
    "    Itest  = pd.DataFrame(np.vstack(validDS.seqTS), columns=validDS.headers)\n",
    "    Ivalid = pd.DataFrame(np.vstack(testDS.seqTS),  columns=testDS.headers)\n",
    "\n",
    "    #- with these 2 lines, utilizing imputer, a median value of each feature from the training set is calculated\n",
    "    imputer = Imputer(strategy=\"median\")\n",
    "    imputer.fit(Itrain)\n",
    "\n",
    "    #- each feature has now it's median, which will substitute any null (if present) from a corresponding feature column\n",
    "    #- or, as pointed above, we may want not to use a median but some other value, so we have to tell it to the imputer:\n",
    "    for _, (param_name, value) in enumerate(ManualCleanList):            \n",
    "        if(param_name in Itrain.columns):\n",
    "            spec_index = Itrain.columns.get_loc(param_name)                        \n",
    "            imputer.statistics_[spec_index] = value                \n",
    "\n",
    "    #- With lines below come the actual (possible) replacement. Note that the median was evaluated only on the training set \n",
    "    # but will be utilized to replace nulls in other sets as well\n",
    "    Itrain = imputer.transform(Itrain)    \n",
    "    Ivalid = imputer.transform(Ivalid)    \n",
    "    Itest  = imputer.transform(Itest)    \n",
    "\n",
    "    # and before leaving the method it would be good to pack the transformed data back in to our myDataset objects\n",
    "    trainDS.seqTS = DataToList(Itrain, trainDS.seqLe)\n",
    "    validDS.seqTS = DataToList(Ivalid, validDS.seqLe)\n",
    "    testDS.seqTS  = DataToList(Itest,  testDS.seqLe)\n",
    "    \n",
    "    return trainDS, validDS, testDS"
   ]
  },
  {
   "cell_type": "code",
   "execution_count": 26,
   "metadata": {
    "collapsed": true
   },
   "outputs": [],
   "source": [
    "trainDS, validDS, testDS = CleanData(trainDS, validDS, testDS, ManualCleanList) # gets myDataset; returns myDataset"
   ]
  },
  {
   "cell_type": "markdown",
   "metadata": {},
   "source": [
    "So the data is clean. There were not many missing values in our datasets but you may compare the output of info() method on our myDataset objects before and after application of the *CleanData* method:"
   ]
  },
  {
   "cell_type": "code",
   "execution_count": 27,
   "metadata": {},
   "outputs": [
    {
     "name": "stdout",
     "output_type": "stream",
     "text": [
      "<class 'pandas.core.frame.DataFrame'>\n",
      "RangeIndex: 69161 entries, 0 to 69160\n",
      "Data columns (total 3 columns):\n",
      "sin_alpha    69161 non-null float64\n",
      "mean         69161 non-null float64\n",
      "rel_std      69161 non-null float64\n",
      "dtypes: float64(3)\n",
      "memory usage: 1.6 MB\n"
     ]
    }
   ],
   "source": [
    "pd.DataFrame(np.vstack(trainDS.seqTS), columns=seqTSsel.columns).info()"
   ]
  },
  {
   "cell_type": "markdown",
   "metadata": {},
   "source": [
    "## Data scaling\n",
    "It is also strongly adviced to scale the range of input features to make all of them in the same range. For that the last of our main methods comes:"
   ]
  },
  {
   "cell_type": "code",
   "execution_count": 28,
   "metadata": {
    "collapsed": true
   },
   "outputs": [],
   "source": [
    "from sklearn import preprocessing\n",
    "\n",
    "def DataNormalization(trainDS, validDS, testDS):  #--- gets myDatasets; returns myDatasets\n",
    "        \n",
    "    #- We extract our data arrays from myDataset objects and stack them as we have to investigate each feature globally\n",
    "    Itrain = np.vstack(trainDS.seqTS)\n",
    "    Ivalid = np.vstack(validDS.seqTS)\n",
    "    Itest  = np.vstack(testDS.seqTS)    \n",
    "\n",
    "    # scikit-learn comes with a method for removing the mean and scaling by standard deviation at once, \n",
    "    # note that taking the referential values also has to be done with respect to our training set only.\n",
    "    std_scale = preprocessing.StandardScaler().fit(Itrain)\n",
    "    train_set = std_scale.transform(Itrain)\n",
    "    valid_set = std_scale.transform(Ivalid)\n",
    "    test_set  = std_scale.transform(Itest)    \n",
    "\n",
    "    # before leaving the method we pack the transformed data back in to our myDataset objects\n",
    "    trainDS.seqTS = DataToList(train_set, trainDS.seqLe)\n",
    "    validDS.seqTS = DataToList(valid_set, validDS.seqLe)\n",
    "    testDS.seqTS  = DataToList(test_set,  testDS.seqLe)\n",
    "    \n",
    "    return trainDS, validDS, testDS"
   ]
  },
  {
   "cell_type": "markdown",
   "metadata": {},
   "source": [
    "So let's evaluate this method and immediately after display the effect:"
   ]
  },
  {
   "cell_type": "code",
   "execution_count": 29,
   "metadata": {},
   "outputs": [
    {
     "data": {
      "text/html": [
       "<div>\n",
       "<style>\n",
       "    .dataframe thead tr:only-child th {\n",
       "        text-align: right;\n",
       "    }\n",
       "\n",
       "    .dataframe thead th {\n",
       "        text-align: left;\n",
       "    }\n",
       "\n",
       "    .dataframe tbody tr th {\n",
       "        vertical-align: top;\n",
       "    }\n",
       "</style>\n",
       "<table border=\"1\" class=\"dataframe\">\n",
       "  <thead>\n",
       "    <tr style=\"text-align: right;\">\n",
       "      <th></th>\n",
       "      <th>sin_alpha</th>\n",
       "      <th>mean</th>\n",
       "      <th>rel_std</th>\n",
       "    </tr>\n",
       "  </thead>\n",
       "  <tbody>\n",
       "    <tr>\n",
       "      <th>count</th>\n",
       "      <td>6.916100e+04</td>\n",
       "      <td>6.916100e+04</td>\n",
       "      <td>6.916100e+04</td>\n",
       "    </tr>\n",
       "    <tr>\n",
       "      <th>mean</th>\n",
       "      <td>1.380792e-16</td>\n",
       "      <td>-4.561544e-17</td>\n",
       "      <td>-6.739579e-17</td>\n",
       "    </tr>\n",
       "    <tr>\n",
       "      <th>std</th>\n",
       "      <td>1.000007e+00</td>\n",
       "      <td>1.000007e+00</td>\n",
       "      <td>1.000007e+00</td>\n",
       "    </tr>\n",
       "    <tr>\n",
       "      <th>min</th>\n",
       "      <td>-7.533933e-01</td>\n",
       "      <td>-1.010648e+00</td>\n",
       "      <td>-3.925651e+00</td>\n",
       "    </tr>\n",
       "    <tr>\n",
       "      <th>25%</th>\n",
       "      <td>-6.474371e-01</td>\n",
       "      <td>-5.885939e-01</td>\n",
       "      <td>-4.933395e-01</td>\n",
       "    </tr>\n",
       "    <tr>\n",
       "      <th>50%</th>\n",
       "      <td>-4.418191e-01</td>\n",
       "      <td>-2.344977e-01</td>\n",
       "      <td>5.980500e-02</td>\n",
       "    </tr>\n",
       "    <tr>\n",
       "      <th>75%</th>\n",
       "      <td>1.925030e-01</td>\n",
       "      <td>1.858252e-01</td>\n",
       "      <td>4.896237e-01</td>\n",
       "    </tr>\n",
       "    <tr>\n",
       "      <th>max</th>\n",
       "      <td>3.265882e+00</td>\n",
       "      <td>8.538727e+00</td>\n",
       "      <td>3.635472e+00</td>\n",
       "    </tr>\n",
       "  </tbody>\n",
       "</table>\n",
       "</div>"
      ],
      "text/plain": [
       "          sin_alpha          mean       rel_std\n",
       "count  6.916100e+04  6.916100e+04  6.916100e+04\n",
       "mean   1.380792e-16 -4.561544e-17 -6.739579e-17\n",
       "std    1.000007e+00  1.000007e+00  1.000007e+00\n",
       "min   -7.533933e-01 -1.010648e+00 -3.925651e+00\n",
       "25%   -6.474371e-01 -5.885939e-01 -4.933395e-01\n",
       "50%   -4.418191e-01 -2.344977e-01  5.980500e-02\n",
       "75%    1.925030e-01  1.858252e-01  4.896237e-01\n",
       "max    3.265882e+00  8.538727e+00  3.635472e+00"
      ]
     },
     "execution_count": 29,
     "metadata": {},
     "output_type": "execute_result"
    },
    {
     "data": {
      "image/png": "[encoded data removed]",
      "text/plain": [
       "<matplotlib.figure.Figure at 0x17da9c59b70>"
      ]
     },
     "metadata": {},
     "output_type": "display_data"
    }
   ],
   "source": [
    "trainDS, validDS, testDS = DataNormalization(trainDS, validDS, testDS) # gets myDatasets; returns myDatasets\n",
    "Itrain = pd.DataFrame(np.vstack(trainDS.seqTS), columns=trainDS.headers) # pack data into DF\n",
    "Itrain.hist()\n",
    "Itrain.describe()"
   ]
  },
  {
   "cell_type": "markdown",
   "metadata": {},
   "source": [
    "Note how the mean value (which is technically 0 for all features) has changed as well as the standard deviation, which is now 1 (these indicate that normalization was succesful). From the histogram of rel_std we see that it's distribution is almost Normal. For Normal distributions you can think of dividing the data by 3 (not 1) std to obtain the output range of the feature close to <-1,1>.  \n",
    "  \n",
    "So let's display the same informations for one of remaining sets (e.g. valid) to see that it was also transformed properly. We can see that the mean and standard deviation are not as close to 0 and 1 as it was for the training set but this is the effect of new data."
   ]
  },
  {
   "cell_type": "code",
   "execution_count": 30,
   "metadata": {},
   "outputs": [
    {
     "data": {
      "text/html": [
       "<div>\n",
       "<style>\n",
       "    .dataframe thead tr:only-child th {\n",
       "        text-align: right;\n",
       "    }\n",
       "\n",
       "    .dataframe thead th {\n",
       "        text-align: left;\n",
       "    }\n",
       "\n",
       "    .dataframe tbody tr th {\n",
       "        vertical-align: top;\n",
       "    }\n",
       "</style>\n",
       "<table border=\"1\" class=\"dataframe\">\n",
       "  <thead>\n",
       "    <tr style=\"text-align: right;\">\n",
       "      <th></th>\n",
       "      <th>sin_alpha</th>\n",
       "      <th>mean</th>\n",
       "      <th>rel_std</th>\n",
       "    </tr>\n",
       "  </thead>\n",
       "  <tbody>\n",
       "    <tr>\n",
       "      <th>count</th>\n",
       "      <td>22763.000000</td>\n",
       "      <td>22763.000000</td>\n",
       "      <td>22763.000000</td>\n",
       "    </tr>\n",
       "    <tr>\n",
       "      <th>mean</th>\n",
       "      <td>0.036512</td>\n",
       "      <td>-0.038801</td>\n",
       "      <td>-0.039232</td>\n",
       "    </tr>\n",
       "    <tr>\n",
       "      <th>std</th>\n",
       "      <td>1.023388</td>\n",
       "      <td>0.917924</td>\n",
       "      <td>0.965083</td>\n",
       "    </tr>\n",
       "    <tr>\n",
       "      <th>min</th>\n",
       "      <td>-0.753393</td>\n",
       "      <td>-1.001460</td>\n",
       "      <td>-3.598118</td>\n",
       "    </tr>\n",
       "    <tr>\n",
       "      <th>25%</th>\n",
       "      <td>-0.642990</td>\n",
       "      <td>-0.582047</td>\n",
       "      <td>-0.476572</td>\n",
       "    </tr>\n",
       "    <tr>\n",
       "      <th>50%</th>\n",
       "      <td>-0.414592</td>\n",
       "      <td>-0.237936</td>\n",
       "      <td>-0.017376</td>\n",
       "    </tr>\n",
       "    <tr>\n",
       "      <th>75%</th>\n",
       "      <td>0.270979</td>\n",
       "      <td>0.162545</td>\n",
       "      <td>0.448391</td>\n",
       "    </tr>\n",
       "    <tr>\n",
       "      <th>max</th>\n",
       "      <td>3.265882</td>\n",
       "      <td>8.175328</td>\n",
       "      <td>3.635472</td>\n",
       "    </tr>\n",
       "  </tbody>\n",
       "</table>\n",
       "</div>"
      ],
      "text/plain": [
       "          sin_alpha          mean       rel_std\n",
       "count  22763.000000  22763.000000  22763.000000\n",
       "mean       0.036512     -0.038801     -0.039232\n",
       "std        1.023388      0.917924      0.965083\n",
       "min       -0.753393     -1.001460     -3.598118\n",
       "25%       -0.642990     -0.582047     -0.476572\n",
       "50%       -0.414592     -0.237936     -0.017376\n",
       "75%        0.270979      0.162545      0.448391\n",
       "max        3.265882      8.175328      3.635472"
      ]
     },
     "execution_count": 30,
     "metadata": {},
     "output_type": "execute_result"
    },
    {
     "data": {
      "image/png": "[encoded data removed]",
      "text/plain": [
       "<matplotlib.figure.Figure at 0x17da9c59c18>"
      ]
     },
     "metadata": {},
     "output_type": "display_data"
    }
   ],
   "source": [
    "Ivalid = pd.DataFrame(np.vstack(validDS.seqTS), columns=validDS.headers) # pack data into DF\n",
    "Ivalid.hist()\n",
    "Ivalid.describe()"
   ]
  },
  {
   "cell_type": "markdown",
   "metadata": {},
   "source": [
    "Brilliant. We are done with the whole pipeline! The only thing left is to save the effect of our transformations. Why not to write another two helper methods for this purpose:"
   ]
  },
  {
   "cell_type": "code",
   "execution_count": 31,
   "metadata": {
    "collapsed": true
   },
   "outputs": [],
   "source": [
    "def SaveToCsv(dataMatrix, dataType, suffix):\n",
    "    _path = 'data/'\n",
    "    stackedData = np.vstack(dataMatrix)   \n",
    "    tempDataFrame = pd.DataFrame(stackedData)\n",
    "    tempDataFrame.to_csv(_path + dataType+suffix+'.csv', index=False, header=False, decimal=',', sep=';')    "
   ]
  },
  {
   "cell_type": "code",
   "execution_count": 32,
   "metadata": {
    "collapsed": true
   },
   "outputs": [],
   "source": [
    "def MySaver(myDatasetObject, dataType):\n",
    "    SaveToCsv(myDatasetObject.seqTS, dataType, 'TS')\n",
    "    SaveToCsv(myDatasetObject.seqTa, dataType, 'Ta')\n",
    "    SaveToCsv(myDatasetObject.seqLe, dataType, 'Le')            "
   ]
  },
  {
   "cell_type": "markdown",
   "metadata": {},
   "source": [
    "...and evaluate them:"
   ]
  },
  {
   "cell_type": "code",
   "execution_count": 33,
   "metadata": {},
   "outputs": [],
   "source": [
    "dataset_tp = 'FEAT'\n",
    "\n",
    "MySaver(trainDS,'train'+dataset_tp)\n",
    "MySaver(validDS,'valid'+dataset_tp)\n",
    "MySaver(testDS, 'test' +dataset_tp)"
   ]
  },
  {
   "cell_type": "markdown",
   "metadata": {},
   "source": [
    "With that, 9 new .csv files in total were saved. There are 3 for each of training, validation, testing sets (with stacked sequences, lengths and targets).\n",
    "\n",
    "---\n",
    "#### References  \n",
    "[1] http://scikit-learn.org/stable/modules/pipeline.html  \n",
    "[2] https://github.com/ageron/handson-ml/blob/master/02_end_to_end_machine_learning_project.ipynb  \n",
    "[3] A. Geron - _\"Hands-On Machine Learning with Scikit-Learn & TensorFlow\"_"
   ]
  }
 ],
 "metadata": {
  "kernelspec": {
   "display_name": "Python 3",
   "language": "python",
   "name": "python3"
  },
  "language_info": {
   "codemirror_mode": {
    "name": "ipython",
    "version": 3
   },
   "file_extension": ".py",
   "mimetype": "text/x-python",
   "name": "python",
   "nbconvert_exporter": "python",
   "pygments_lexer": "ipython3",
   "version": "3.5.3"
  }
 },
 "nbformat": 4,
 "nbformat_minor": 2
}
